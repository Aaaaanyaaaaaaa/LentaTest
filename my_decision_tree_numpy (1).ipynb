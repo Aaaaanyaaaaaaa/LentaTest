{
 "cells": [
  {
   "cell_type": "code",
   "execution_count": 1,
   "metadata": {
    "id": "vP0CLLYv9Ceh"
   },
   "outputs": [],
   "source": [
    "import numpy as np\n",
    "import pandas as pd\n",
    "from sklearn.datasets import load_boston\n",
    "from sklearn.metrics import r2_score\n",
    "import matplotlib.pyplot as plt\n",
    "import seaborn as sns\n",
    "from sklearn.ensemble import RandomForestRegressor"
   ]
  },
  {
   "cell_type": "code",
   "execution_count": 2,
   "metadata": {
    "id": "dgxb4gt69FdB"
   },
   "outputs": [],
   "source": [
    "boston_dataset = load_boston()"
   ]
  },
  {
   "cell_type": "code",
   "execution_count": 3,
   "metadata": {
    "id": "yU0Z8-od9PHT"
   },
   "outputs": [],
   "source": [
    "X = pd.DataFrame(boston_dataset.data, columns = boston_dataset.feature_names)"
   ]
  },
  {
   "cell_type": "code",
   "execution_count": 4,
   "metadata": {
    "id": "yuFiMI5M-Ci_"
   },
   "outputs": [],
   "source": [
    "X, Y = load_boston(return_X_y=True)"
   ]
  },
  {
   "cell_type": "code",
   "execution_count": 5,
   "metadata": {
    "id": "NR4vLJxJ_Ah3"
   },
   "outputs": [],
   "source": [
    "X = pd.DataFrame(X)"
   ]
  },
  {
   "cell_type": "code",
   "execution_count": 6,
   "metadata": {
    "id": "5Q_xmPyM_FEv"
   },
   "outputs": [],
   "source": [
    "Y = pd.Series(Y)"
   ]
  },
  {
   "cell_type": "code",
   "execution_count": 7,
   "metadata": {
    "id": "lOLFlX6i_QjY"
   },
   "outputs": [],
   "source": [
    "from sklearn.model_selection import train_test_split\n",
    "X_train, X_test, y_train, y_test = train_test_split(X,Y, test_size = 0.25, random_state = 0)"
   ]
  },
  {
   "cell_type": "code",
   "execution_count": 8,
   "metadata": {
    "id": "BQe0GfTiELc-"
   },
   "outputs": [],
   "source": [
    "def rss(y_left, y_right):\n",
    "    return np.sum((y_left - np.mean(y_left))**2) + np.sum((y_right - np.mean(y_right))**2)"
   ]
  },
  {
   "cell_type": "code",
   "execution_count": 9,
   "metadata": {
    "id": "LOy8bBWuFONQ"
   },
   "outputs": [],
   "source": [
    "class DecisionTree():\n",
    "    def __init__(self, X, y, depth, max_depth):\n",
    "        self.X = X\n",
    "        self.y = y\n",
    "        self.depth = depth\n",
    "        self.max_depth = max_depth\n",
    "        self.min_rss = np.inf\n",
    "        self.prediction = np.mean(self.y)\n",
    "        self.split()\n",
    "\n",
    "    def find_best_rule(self):\n",
    "        self.best_feature, self.best_threshold= None, None\n",
    "        for feature in self.X.columns:\n",
    "            thresholds = self.X[feature].unique().tolist()\n",
    "            thresholds.sort()\n",
    "            thresholds = thresholds[1:]\n",
    "            for t in thresholds:\n",
    "                y_left_ix = self.X[feature] < t\n",
    "                y_left, y_right = self.y[y_left_ix], self.y[~y_left_ix]\n",
    "                t_rss = rss(y_left, y_right)\n",
    "                if t_rss < self.min_rss:\n",
    "                    self.min_rss = t_rss\n",
    "                    self.best_threshold = t\n",
    "                    self.best_feature = feature\n",
    "    \n",
    "\n",
    "    def split(self):\n",
    "        if self.depth == self.max_depth or len(self.X) < 2:\n",
    "            return \n",
    "\n",
    "        self.find_best_rule()\n",
    "        left_ix = self.X[self.best_feature] < self.best_threshold\n",
    "        self.lhs = DecisionTree(self.X[left_ix], self.y[left_ix], self.depth + 1, self.max_depth)\n",
    "        self.rhs = DecisionTree(self.X[~left_ix], self.y[~left_ix], self.depth + 1, self.max_depth)\n",
    "    \n",
    "  \n",
    "    def predict_row(self, sample):\n",
    "        if self.depth == self.max_depth or len(self.X) < 2:\n",
    "            return self.prediction\n",
    "        t = self.lhs if sample[self.best_feature] < self.best_threshold  else self.rhs\n",
    "        return t.predict_row(sample)\n",
    "\n",
    "    def predict(self, x):\n",
    "        preds = np.array([self.predict_row(xi) for xi in x.values])\n",
    "        return preds\n",
    "\n",
    "    \n",
    "    "
   ]
  },
  {
   "cell_type": "code",
   "execution_count": 10,
   "metadata": {
    "id": "wWRArupMfSDm"
   },
   "outputs": [],
   "source": [
    "class MyRandomForest():\n",
    "    def __init__(self, x, y, n_trees, max_depth, sample_size):\n",
    "        self.x = x\n",
    "        self.y = y\n",
    "        self.n_trees = n_trees\n",
    "        self.max_depth = max_depth\n",
    "        self.sample_size = sample_size\n",
    "        np.random.seed(42)\n",
    "        self.trees = [self.create_tree() for i in range(self.n_trees)]\n",
    "\n",
    "    def create_tree(self):\n",
    "        indeces = np.random.permutation(len(self.y))[:self.sample_size]\n",
    "        return DecisionTree(self.x.iloc[indeces], self.y.iloc[indeces], 0, self.max_depth)\n",
    "\n",
    "    def predict(self, x):\n",
    "        return np.mean([t.predict(x) for t in self.trees], axis=0)"
   ]
  },
  {
   "cell_type": "code",
   "execution_count": 11,
   "metadata": {
    "id": "LHkNaKiXnQiY"
   },
   "outputs": [],
   "source": [
    "MRF = MyRandomForest(X_train, y_train, 50, 5 ,100)"
   ]
  },
  {
   "cell_type": "code",
   "execution_count": 12,
   "metadata": {
    "id": "I0NUJAhZtdgt"
   },
   "outputs": [],
   "source": [
    "pred_mrf = MRF.predict(X_test)"
   ]
  },
  {
   "cell_type": "code",
   "execution_count": 13,
   "metadata": {
    "colab": {
     "base_uri": "https://localhost:8080/"
    },
    "id": "-7eoEsoctj4v",
    "outputId": "c30bf6cc-eefb-4cc5-eac2-a8508e53b993"
   },
   "outputs": [
    {
     "data": {
      "text/plain": [
       "0.5931180249572485"
      ]
     },
     "execution_count": 13,
     "metadata": {},
     "output_type": "execute_result"
    }
   ],
   "source": [
    "r2_score(pred_mrf, y_test)"
   ]
  },
  {
   "cell_type": "code",
   "execution_count": 14,
   "metadata": {
    "id": "Xp1cFeCkaxH2"
   },
   "outputs": [],
   "source": [
    "DecTree = DecisionTree(X_train, y_train, 0, 5)"
   ]
  },
  {
   "cell_type": "code",
   "execution_count": 15,
   "metadata": {
    "colab": {
     "base_uri": "https://localhost:8080/"
    },
    "id": "tjpHMvdEcAVk",
    "outputId": "a7429015-7209-4150-8b29-fc1d8c36b5b5"
   },
   "outputs": [
    {
     "data": {
      "text/plain": [
       "0.5738992575503652"
      ]
     },
     "execution_count": 15,
     "metadata": {},
     "output_type": "execute_result"
    }
   ],
   "source": [
    "preds_dt = DecTree.predict(X_test)\n",
    "r2_score(preds_dt, y_test)"
   ]
  },
  {
   "cell_type": "code",
   "execution_count": 16,
   "metadata": {
    "id": "JCViHhnl4M2S"
   },
   "outputs": [],
   "source": [
    "regressor = RandomForestRegressor(n_estimators = 50, random_state = 0, \n",
    "                                  max_depth = 5, bootstrap=True, max_samples = 100)\n",
    "regressor.fit(X_train, y_train)\n",
    "\n",
    "y_pred = regressor.predict(X_test)"
   ]
  },
  {
   "cell_type": "code",
   "execution_count": 17,
   "metadata": {
    "colab": {
     "base_uri": "https://localhost:8080/"
    },
    "id": "7_TS9yYE49rZ",
    "outputId": "7b9bd62c-f984-4016-edbc-76c8c799fdc0"
   },
   "outputs": [
    {
     "data": {
      "text/plain": [
       "0.5630576167731276"
      ]
     },
     "execution_count": 17,
     "metadata": {},
     "output_type": "execute_result"
    }
   ],
   "source": [
    "r2_score(y_pred, y_test)"
   ]
  }
 ],
 "metadata": {
  "colab": {
   "name": "MyDecTree.ipynb",
   "provenance": []
  },
  "kernelspec": {
   "display_name": "Python 3",
   "language": "python",
   "name": "python3"
  },
  "language_info": {
   "codemirror_mode": {
    "name": "ipython",
    "version": 3
   },
   "file_extension": ".py",
   "mimetype": "text/x-python",
   "name": "python",
   "nbconvert_exporter": "python",
   "pygments_lexer": "ipython3",
   "version": "3.7.6"
  }
 },
 "nbformat": 4,
 "nbformat_minor": 1
}
